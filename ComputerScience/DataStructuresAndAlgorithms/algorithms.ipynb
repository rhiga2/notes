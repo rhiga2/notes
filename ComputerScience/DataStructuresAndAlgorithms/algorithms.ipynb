{
 "cells": [
  {
   "cell_type": "code",
   "execution_count": 10,
   "metadata": {},
   "outputs": [
    {
     "name": "stdout",
     "output_type": "stream",
     "text": [
      "5\n",
      "4\n"
     ]
    }
   ],
   "source": [
    "# Find Missing Number\n",
    "def find_missing_number(arr):\n",
    "    n = len(arr)\n",
    "    expected_total = (n + 1) * (n + 2) / 2\n",
    "    return int(expected_total - sum(arr))\n",
    "\n",
    "print(find_missing_number([1, 2, 4, 6, 3, 7, 8]))\n",
    "print(find_missing_number([1, 2, 3, 5]))"
   ]
  },
  {
   "cell_type": "code",
   "execution_count": 12,
   "metadata": {},
   "outputs": [
    {
     "name": "stdout",
     "output_type": "stream",
     "text": [
      "7\n",
      "25\n"
     ]
    }
   ],
   "source": [
    "# Maximum subarray sum\n",
    "def max_subarray_sum(arr):\n",
    "    local_max = 0 \n",
    "    global_max = None\n",
    "    for elem in arr:\n",
    "        local_max = max(elem, elem + local_max)\n",
    "        if global_max is None or local_max > global_max:\n",
    "            global_max = local_max\n",
    "    return global_max\n",
    "\n",
    "print(max_subarray_sum([-2, -3, 4, -1, -2, 1, 5, -3]))\n",
    "print(max_subarray_sum([5, 4, 1, 7, 8]))"
   ]
  },
  {
   "cell_type": "code",
   "execution_count": 26,
   "metadata": {},
   "outputs": [
    {
     "name": "stdout",
     "output_type": "stream",
     "text": [
      "60\n"
     ]
    }
   ],
   "source": [
    "# Maximum subarray product\n",
    "def max_subarray_product(arr):\n",
    "    local_max = 0\n",
    "    local_min = 0\n",
    "    global_max = None \n",
    "    for elem in arr:\n",
    "        temp_max = max(elem, local_max * elem, local_min * elem)\n",
    "        temp_min = min(elem, local_max * elem, local_min * elem)\n",
    "        local_min, local_max = temp_min, temp_max\n",
    "        if global_max is None or local_max > global_max:\n",
    "            global_max = local_max \n",
    "    return global_max\n",
    "\n",
    "print(max_subarray_product([-1, -3, -10, 0, 60]))\n"
   ]
  },
  {
   "cell_type": "code",
   "execution_count": 29,
   "metadata": {},
   "outputs": [
    {
     "name": "stdout",
     "output_type": "stream",
     "text": [
      "1 -7 6\n",
      "2 -6 1\n",
      "3 -1 -1\n",
      "4\n"
     ]
    }
   ],
   "source": [
    "# Find equilibrium point\n",
    "def find_equilibrium(arr):\n",
    "    if len(arr) <= 2:\n",
    "        return - 1\n",
    "    left_sum = arr[0]\n",
    "    right_sum = sum(arr[2:])\n",
    "    for i in range(1, len(arr) - 1):\n",
    "        if left_sum == right_sum:\n",
    "            return i + 1\n",
    "        left_sum = left_sum + arr[i]\n",
    "        right_sum = right_sum - arr[i+1]\n",
    "    return -1\n",
    "\n",
    "print(find_equilibrium([-7, 1, 5, 2, -4, 3, 0]))\n",
    "print(find_equilibrium([-7, 1, 5, 2, -4, 3, 0]))"
   ]
  },
  {
   "cell_type": "code",
   "execution_count": 33,
   "metadata": {},
   "outputs": [
    {
     "name": "stdout",
     "output_type": "stream",
     "text": [
      "[17, 5, 2]\n",
      "[5, 2]\n"
     ]
    }
   ],
   "source": [
    "# Find array leaders\n",
    "def find_leaders(arr):\n",
    "    output = []\n",
    "    curr_max = None \n",
    "    for elem in reversed(arr):\n",
    "        if curr_max is None or elem > curr_max:\n",
    "            output.append(elem)\n",
    "            curr_max = elem\n",
    "    return list(reversed(output))\n",
    "\n",
    "print(find_leaders([16, 17, 4, 3, 5, 2]))\n",
    "print(find_leaders([1, 2, 3, 4, 5, 2]))"
   ]
  },
  {
   "cell_type": "code",
   "execution_count": 45,
   "metadata": {},
   "outputs": [
    {
     "name": "stdout",
     "output_type": "stream",
     "text": [
      "3\n",
      "1\n"
     ]
    }
   ],
   "source": [
    "# Assume arr, dep is sorted by arr\n",
    "def find_overlap(arr, dep):\n",
    "    j = 0\n",
    "    max_overlap = 0\n",
    "    for i in range(len(arr)):\n",
    "        if arr[i] > dep[j]:\n",
    "            if i - j > max_overlap:\n",
    "                max_overlap = i - j\n",
    "            curr_dep = dep[j]\n",
    "            while dep[j] <= curr_dep:\n",
    "                j += 1\n",
    "    return max_overlap\n",
    "\n",
    "\n",
    "print(find_overlap([9.00, 9.40, 9.50, 11.00, 15.00, 18.00], [9.10, 12.00, 11.20, 11.30, 19.00, 20.00]))\n",
    "print(find_overlap([9.00, 9.40], [9.10, 20.00]))"
   ]
  },
  {
   "cell_type": "code",
   "execution_count": 48,
   "metadata": {},
   "outputs": [
    {
     "name": "stdout",
     "output_type": "stream",
     "text": [
      "[3, 4, 5, 1, 2]\n"
     ]
    }
   ],
   "source": [
    "# Rotate arr by k\n",
    "def rotate(arr, k):\n",
    "    suffix = arr[:len(arr) - k]\n",
    "    prefix = arr[len(arr) - k:]\n",
    "    prefix.extend(suffix)\n",
    "    return prefix\n",
    "\n",
    "print(rotate([1, 2, 3, 4, 5], 3))\n"
   ]
  },
  {
   "cell_type": "code",
   "execution_count": 60,
   "metadata": {},
   "outputs": [
    {
     "name": "stdout",
     "output_type": "stream",
     "text": [
      "Found b\n",
      "Found a\n"
     ]
    },
    {
     "ename": "AttributeError",
     "evalue": "'NoneType' object has no attribute 'val'",
     "output_type": "error",
     "traceback": [
      "\u001b[0;31m---------------------------------------------------------------------------\u001b[0m",
      "\u001b[0;31mAttributeError\u001b[0m                            Traceback (most recent call last)",
      "Cell \u001b[0;32mIn[60], line 29\u001b[0m\n\u001b[1;32m     26\u001b[0m     \u001b[38;5;28;01mreturn\u001b[39;00m dfs(root, a, b)[\u001b[38;5;241m0\u001b[39m]\u001b[38;5;241m.\u001b[39mval\n\u001b[1;32m     28\u001b[0m tree \u001b[38;5;241m=\u001b[39m Node(\u001b[38;5;241m1\u001b[39m, Node(\u001b[38;5;241m2\u001b[39m, Node(\u001b[38;5;241m4\u001b[39m, \u001b[38;5;28;01mNone\u001b[39;00m, \u001b[38;5;28;01mNone\u001b[39;00m), Node(\u001b[38;5;241m5\u001b[39m, \u001b[38;5;28;01mNone\u001b[39;00m, \u001b[38;5;28;01mNone\u001b[39;00m)), Node(\u001b[38;5;241m3\u001b[39m, \u001b[38;5;28;01mNone\u001b[39;00m, \u001b[38;5;28;01mNone\u001b[39;00m))\n\u001b[0;32m---> 29\u001b[0m \u001b[38;5;28mprint\u001b[39m(\u001b[43mget_lca\u001b[49m\u001b[43m(\u001b[49m\u001b[43mtree\u001b[49m\u001b[43m,\u001b[49m\u001b[43m \u001b[49m\u001b[38;5;241;43m3\u001b[39;49m\u001b[43m,\u001b[49m\u001b[43m \u001b[49m\u001b[38;5;241;43m4\u001b[39;49m\u001b[43m)\u001b[49m)\n",
      "Cell \u001b[0;32mIn[60], line 26\u001b[0m, in \u001b[0;36mget_lca\u001b[0;34m(root, a, b)\u001b[0m\n\u001b[1;32m     25\u001b[0m \u001b[38;5;28;01mdef\u001b[39;00m \u001b[38;5;21mget_lca\u001b[39m(root, a, b):\n\u001b[0;32m---> 26\u001b[0m     \u001b[38;5;28;01mreturn\u001b[39;00m \u001b[43mdfs\u001b[49m\u001b[43m(\u001b[49m\u001b[43mroot\u001b[49m\u001b[43m,\u001b[49m\u001b[43m \u001b[49m\u001b[43ma\u001b[49m\u001b[43m,\u001b[49m\u001b[43m \u001b[49m\u001b[43mb\u001b[49m\u001b[43m)\u001b[49m\u001b[43m[\u001b[49m\u001b[38;5;241;43m0\u001b[39;49m\u001b[43m]\u001b[49m\u001b[38;5;241;43m.\u001b[39;49m\u001b[43mval\u001b[49m\n",
      "\u001b[0;31mAttributeError\u001b[0m: 'NoneType' object has no attribute 'val'"
     ]
    }
   ],
   "source": [
    "# LCA for binary tree\n",
    "class Node:\n",
    "    def __init__(self, val, left, right):\n",
    "        self.val = val\n",
    "        self.left = left\n",
    "        self.right = right \n",
    "\n",
    "def dfs(node, a, b):\n",
    "    if node is None:\n",
    "        return (None, 0)\n",
    "    elif node.val == a:\n",
    "        print(\"Found a\")\n",
    "        return (None, 1) \n",
    "    elif node.val == b:\n",
    "        print(\"Found b\")\n",
    "        return (None, 1)\n",
    "    llca, lcount = dfs(node.left, a, b)\n",
    "    if lcount < 2:\n",
    "        rlca, rcount = dfs(node.right, a, b)\n",
    "        if lcount == 1 and rcount == 1:\n",
    "            return (node, 2)\n",
    "        return rlca, (rcount + lcount)\n",
    "    return llca, lcount\n",
    "\n",
    "def get_lca(root, a, b):\n",
    "    return dfs(root, a, b)[0].val\n",
    "\n",
    "tree = Node(1, Node(2, Node(4, None, None), Node(5, None, None)), Node(3, None, None))\n",
    "print(get_lca(tree, 3, 4))"
   ]
  },
  {
   "cell_type": "code",
   "execution_count": null,
   "metadata": {},
   "outputs": [],
   "source": []
  }
 ],
 "metadata": {
  "kernelspec": {
   "display_name": "Python 3",
   "language": "python",
   "name": "python3"
  },
  "language_info": {
   "codemirror_mode": {
    "name": "ipython",
    "version": 3
   },
   "file_extension": ".py",
   "mimetype": "text/x-python",
   "name": "python",
   "nbconvert_exporter": "python",
   "pygments_lexer": "ipython3",
   "version": "3.9.6"
  }
 },
 "nbformat": 4,
 "nbformat_minor": 2
}
